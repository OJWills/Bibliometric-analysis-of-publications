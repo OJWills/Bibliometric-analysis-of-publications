{
 "cells": [
  {
   "cell_type": "markdown",
   "metadata": {},
   "source": [
    "# Influential researcher identifier\n",
    "\n",
    "#### This tool uses bibiliometrics and network analysis to identify influential researchers from a file containing publications.\n",
    "\n",
    "###  Guidance notes\n",
    "#### 1) Save spreadsheet containing publications and RCR sores as a CSV file. \n",
    "#### 2) Ensure author field is marked 'Author' and RCR field is marked 'RCR'.\n",
    "#### 3) Update the code below with correct directory and file_name.\n",
    "#### 4) Run code. Respond to prompts. Code can analyse all authors or first and last author only."
   ]
  },
  {
   "cell_type": "code",
   "execution_count": null,
   "metadata": {
    "collapsed": true
   },
   "outputs": [],
   "source": [
    "%reload_ext autoreload\n",
    "%autoreload 2\n",
    "from util import run_programme as run_util\n",
    "from author_name_disambiguator import run_programme as run_name_disambiguator\n",
    "from rcr_aggregator import run_programme as run_rcr_aggregator\n",
    "from graph_builder import run_programme as run_graph_builder \n",
    "from network_analysis_builder import run_programme as run_network_analysis_builder"
   ]
  },
  {
   "cell_type": "code",
   "execution_count": null,
   "metadata": {
    "collapsed": true
   },
   "outputs": [],
   "source": [
    "#Set diretcory and file_name for publication list \n",
    "directory = 'C:\\\\Users\\WillsO\\\\OneDrive - Wellcome Cloud\\\\Python programmes\\\\Papers to scrape\\\\'\n",
    "file_name = 'all references.csv'"
   ]
  },
  {
   "cell_type": "code",
   "execution_count": null,
   "metadata": {},
   "outputs": [],
   "source": [
    "(authors, author_RCRs, author_lists) = run_util(directory, file_name)\n",
    "(unambiguous_authors, unambiguous_author_lists) = run_name_disambiguator(directory, file_name, authors, author_lists)\n",
    "(nodes, edges) = run_graph_builder(unambiguous_authors, directory, unambiguous_author_lists)\n",
    "network_results = run_network_analysis_builder(directory)\n",
    "rcr_results = run_rcr_aggregator(directory, file_name, unambiguous_authors, author_RCRs)"
   ]
  },
  {
   "cell_type": "code",
   "execution_count": null,
   "metadata": {},
   "outputs": [],
   "source": [
    "network_results"
   ]
  },
  {
   "cell_type": "code",
   "execution_count": null,
   "metadata": {
    "collapsed": true
   },
   "outputs": [],
   "source": [
    "network_results.to_csv('C:\\\\Users\\\\WillsO\\\\OneDrive - Wellcome Cloud\\\\Python programmes\\\\Papers to scrape\\\\READ_THIS_FILE_1.csv', encoding='latin1')"
   ]
  }
 ],
 "metadata": {
  "kernelspec": {
   "display_name": "Python 3",
   "language": "python",
   "name": "python3"
  },
  "language_info": {
   "codemirror_mode": {
    "name": "ipython",
    "version": 3
   },
   "file_extension": ".py",
   "mimetype": "text/x-python",
   "name": "python",
   "nbconvert_exporter": "python",
   "pygments_lexer": "ipython3",
   "version": "3.6.3"
  }
 },
 "nbformat": 4,
 "nbformat_minor": 2
}
